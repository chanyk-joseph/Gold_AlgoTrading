{
 "cells": [
  {
   "cell_type": "code",
   "execution_count": 2,
   "metadata": {},
   "outputs": [
    {
     "name": "stdout",
     "output_type": "stream",
     "text": [
      "Portfolio_A\n",
      "TWAP\n",
      "Paper_DMA\n",
      "File_Trade_Logger\n",
      "completed.\n"
     ]
    }
   ],
   "source": [
    "from goldalgo.config import * \n",
    "from goldalgo.project import * \n",
    "\n",
    "config = Config()\n",
    "config.set_strategy(STRATEGY_PORT_A)\n",
    "config.set_optimizer(OPTIMIZER_TWAP)\n",
    "config.set_dma(DMA_PAPER)\n",
    "config.set_logger(TRADE_LOGGER_FILE)\n",
    "\n",
    "print(config.get_strategy().get_name())\n",
    "print(config.get_optimizer().get_name())\n",
    "print(config.get_dma().get_name())\n",
    "print(config.get_logger().get_name())\n",
    "\n",
    "project = Project(0, 1, 1, config)\n",
    "project.run()"
   ]
  },
  {
   "cell_type": "code",
   "execution_count": null,
   "metadata": {},
   "outputs": [],
   "source": [
    "import time\n",
    "import datetime\n",
    "\n",
    "time.time()\n",
    "\n",
    "datetime.datetime.now().strftime(\"%Y%m%d%H%M\")"
   ]
  },
  {
   "cell_type": "code",
   "execution_count": null,
   "metadata": {
    "collapsed": true
   },
   "outputs": [],
   "source": [
    "so = []\n",
    "len(so)"
   ]
  },
  {
   "cell_type": "code",
   "execution_count": null,
   "metadata": {},
   "outputs": [],
   "source": [
    "import time\n",
    "import numpy as np\n",
    "\n",
    "str(int(time.time())) + str(np.random.randint(100)).zfill(2)\n"
   ]
  }
 ],
 "metadata": {
  "kernelspec": {
   "display_name": "Python 3",
   "language": "python",
   "name": "python3"
  },
  "language_info": {
   "codemirror_mode": {
    "name": "ipython",
    "version": 3
   },
   "file_extension": ".py",
   "mimetype": "text/x-python",
   "name": "python",
   "nbconvert_exporter": "python",
   "pygments_lexer": "ipython3",
   "version": "3.6.1"
  }
 },
 "nbformat": 4,
 "nbformat_minor": 2
}
